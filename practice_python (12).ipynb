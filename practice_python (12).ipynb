{
  "nbformat": 4,
  "nbformat_minor": 0,
  "metadata": {
    "colab": {
      "name": "practice_python.ipynb",
      "provenance": []
    },
    "kernelspec": {
      "name": "python3",
      "display_name": "Python 3"
    },
    "language_info": {
      "name": "python"
    }
  },
  "cells": [
    {
      "cell_type": "code",
      "metadata": {
        "id": "LjZfIO3NXGGF"
      },
      "source": [
        "if __name__ == '__main__':\n",
        "    n = int(raw_input().strip())\n",
        "    if n%2!=0:\n",
        "        if n in range(3,5):\n",
        "            print (\"Great\")\n",
        "        if n in range(6,21):\n",
        "            print (\"Awesome\")\n",
        "        if n>20:\n",
        "            print(\"Not applicable\")   \n",
        "    else:  \n",
        "        print(\"Done\")    "
      ],
      "execution_count": null,
      "outputs": []
    },
    {
      "cell_type": "code",
      "metadata": {
        "id": "Rz3Hrw4aXkkA"
      },
      "source": [
        "def swap_case(s):\n",
        "    k = ''\n",
        "    for i in range(len(s)):\n",
        "        if s[i].islower():\n",
        "            k+=s[i].upper()\n",
        "        elif s[i].isupper():\n",
        "            k+=s[i].lower()\n",
        "        else:\n",
        "            k+=s[i]           \n",
        "    return k"
      ],
      "execution_count": null,
      "outputs": []
    },
    {
      "cell_type": "code",
      "metadata": {
        "id": "f4k1gxV5hTzp"
      },
      "source": [
        "def split_and_join(line):\n",
        "    a = line.split(\"-\")\n",
        "    a = \";\".join(a)\n",
        "    \n",
        "    return a"
      ],
      "execution_count": null,
      "outputs": []
    },
    {
      "cell_type": "code",
      "metadata": {
        "id": "WVblLIuUljkL"
      },
      "source": [
        "def print_address(street_name, house_number):\n",
        "    # Write your code here\n",
        "    print (\"Hello! I live at {} {}!\".format(street_name, house_number))"
      ],
      "execution_count": null,
      "outputs": []
    },
    {
      "cell_type": "code",
      "metadata": {
        "id": "kbd62m469ruI"
      },
      "source": [
        "def solve(word):\n",
        "    for i in word.split():\n",
        "        word = word.replace(i, i.capitalize())\n",
        "    return word    \n"
      ],
      "execution_count": null,
      "outputs": []
    },
    {
      "cell_type": "code",
      "metadata": {
        "id": "AICobkGU_n0o"
      },
      "source": [
        "def count_substring(string, sub_string):\n",
        "    count = 0\n",
        "    for i in range(len(string)):\n",
        "        if string[i:].startswith(sub_string):\n",
        "            count += 1\n",
        "    return count"
      ],
      "execution_count": null,
      "outputs": []
    },
    {
      "cell_type": "code",
      "metadata": {
        "id": "mrUZx2629sr3"
      },
      "source": [
        "if __name__ == '__main__':\n",
        "    n = int(raw_input())\n",
        "    for i in range(0,n):\n",
        "        print (i+5)"
      ],
      "execution_count": null,
      "outputs": []
    },
    {
      "cell_type": "code",
      "metadata": {
        "id": "XuWfEMoj98Qo"
      },
      "source": [
        "def is_leap(year):\n",
        "    leap = False\n",
        "    \n",
        "    # Write your logic here\n",
        "    if year%4==0:\n",
        "        if year%100!=0:\n",
        "            return True\n",
        "        if year%400==0:\n",
        "            return True\n",
        "                 \n",
        "    return leap"
      ],
      "execution_count": null,
      "outputs": []
    },
    {
      "cell_type": "code",
      "metadata": {
        "id": "_uo7SdGDPzeZ"
      },
      "source": [
        "from __future__ import print_function\n",
        "\n",
        "if __name__ == '__main__':\n",
        "    n = int(raw_input())\n",
        "    for i in range(1,n+1):\n",
        "        print (i, end='')"
      ],
      "execution_count": null,
      "outputs": []
    },
    {
      "cell_type": "code",
      "metadata": {
        "id": "0x5w04wRP6Ym"
      },
      "source": [
        "if __name__ == '__main__':\n",
        "    a = int(raw_input())\n",
        "    b = int(raw_input())\n",
        "    c = a/b\n",
        "    d = a+b\n",
        "    e = a-b\n",
        "    f = a*b\n",
        "    print (c)\n",
        "    print (d)\n",
        "    print (e)\n",
        "    print (f)\n"
      ],
      "execution_count": null,
      "outputs": []
    },
    {
      "cell_type": "code",
      "metadata": {
        "id": "drzBBxcbdz5t"
      },
      "source": [
        "if __name__ == '__main__':\n",
        "    x = int(raw_input())\n",
        "    y = int(raw_input())\n",
        "    z = int(raw_input())\n",
        "    n = int(raw_input())\n",
        "    print([[a,b,c] for a in range(0,x+1) for b in range (0,y+1) for c in range (0,z+1) if a+b+c!=n])\n",
        "    "
      ],
      "execution_count": null,
      "outputs": []
    },
    {
      "cell_type": "code",
      "metadata": {
        "id": "eGUsnrbeeByg"
      },
      "source": [
        "if __name__ == '__main__':\n",
        "    n = int(raw_input())\n",
        "    arr = map(int, raw_input().split())\n",
        "    arr.sort()\n",
        "    print (list(set(arr))[-2])\n"
      ],
      "execution_count": null,
      "outputs": []
    },
    {
      "cell_type": "code",
      "metadata": {
        "id": "_ncWSahy4nLa"
      },
      "source": [
        "if __name__ == '__main__':\n",
        "    n = int(raw_input())\n",
        "    for i in range(0,n):\n",
        "        print (i**2)"
      ],
      "execution_count": null,
      "outputs": []
    }
  ]
}
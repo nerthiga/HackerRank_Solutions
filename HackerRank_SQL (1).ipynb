{
  "nbformat": 4,
  "nbformat_minor": 0,
  "metadata": {
    "colab": {
      "name": "HackerRank_SQL.ipynb",
      "provenance": []
    },
    "kernelspec": {
      "name": "python3",
      "display_name": "Python 3"
    },
    "language_info": {
      "name": "python"
    }
  },
  "cells": [
    {
      "cell_type": "code",
      "metadata": {
        "id": "lFeq4l6wxOEP"
      },
      "source": [
        "SELECT * FROM CITY WHERE POPULATION > 100000 AND COUNTRYCODE = 'USA';"
      ],
      "execution_count": null,
      "outputs": []
    },
    {
      "cell_type": "code",
      "metadata": {
        "id": "g5okXcfaxbxs"
      },
      "source": [
        "SELECT NAME FROM CITY WHERE COUNTRYCODE = 'USA' AND POPULATION > 120000;"
      ],
      "execution_count": null,
      "outputs": []
    }
  ]
}
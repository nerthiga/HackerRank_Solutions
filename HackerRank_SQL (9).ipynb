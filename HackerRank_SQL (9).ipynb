{
  "nbformat": 4,
  "nbformat_minor": 0,
  "metadata": {
    "colab": {
      "name": "HackerRank_SQL.ipynb",
      "provenance": []
    },
    "kernelspec": {
      "name": "python3",
      "display_name": "Python 3"
    },
    "language_info": {
      "name": "python"
    }
  },
  "cells": [
    {
      "cell_type": "code",
      "metadata": {
        "id": "lFeq4l6wxOEP"
      },
      "source": [
        "SELECT * FROM CITY WHERE POPULATION > 100000 AND COUNTRYCODE = 'USA';"
      ],
      "execution_count": null,
      "outputs": []
    },
    {
      "cell_type": "code",
      "metadata": {
        "id": "g5okXcfaxbxs"
      },
      "source": [
        "SELECT NAME FROM CITY WHERE COUNTRYCODE = 'USA' AND POPULATION > 120000;"
      ],
      "execution_count": null,
      "outputs": []
    },
    {
      "cell_type": "code",
      "metadata": {
        "id": "cl-tMNU9xm4F"
      },
      "source": [
        "SELECT * FROM CITY;"
      ],
      "execution_count": null,
      "outputs": []
    },
    {
      "cell_type": "code",
      "metadata": {
        "id": "RAeA2e5Uxs-B"
      },
      "source": [
        "SELECT * FROM CITY WHERE ID = 1661;"
      ],
      "execution_count": null,
      "outputs": []
    },
    {
      "cell_type": "code",
      "metadata": {
        "id": "Ef8Q1fAbxzmq"
      },
      "source": [
        "SELECT * FROM CITY WHERE COUNTRYCODE = 'JPN';"
      ],
      "execution_count": null,
      "outputs": []
    },
    {
      "cell_type": "code",
      "metadata": {
        "id": "FIi0fTl1xzsA"
      },
      "source": [
        "SELECT NAME FROM CITY WHERE COUNTRYCODE = 'JPN';"
      ],
      "execution_count": null,
      "outputs": []
    },
    {
      "cell_type": "code",
      "metadata": {
        "id": "xcrvQeu8x9GU"
      },
      "source": [
        "SELECT CITY, STATE FROM STATION;"
      ],
      "execution_count": null,
      "outputs": []
    },
    {
      "cell_type": "code",
      "metadata": {
        "id": "05QthsroyI_l"
      },
      "source": [
        "SELECT DISTINCT CITY FROM STATION WHERE (ID%2 = '0');"
      ],
      "execution_count": null,
      "outputs": []
    },
    {
      "cell_type": "code",
      "metadata": {
        "id": "FUgkSb9UyKgu"
      },
      "source": [
        "SELECT (COUNT(CITY)-COUNT(DISTINCT(CITY))) FROM STATION;"
      ],
      "execution_count": null,
      "outputs": []
    },
    {
      "cell_type": "code",
      "metadata": {
        "id": "ZYXdapv7jfQz"
      },
      "source": [
        "SELECT CITY, LENGTH(CITY) AS LEN FROM STATION ORDER BY LENGTH(CITY) DESC, CITY ASC LIMIT 1;\n",
        "SELECT CITY, LENGTH(CITY) AS LEN FROM STATION ORDER BY LENGTH(CITY) ASC, CITY ASC LIMIT 1;"
      ],
      "execution_count": null,
      "outputs": []
    },
    {
      "cell_type": "code",
      "metadata": {
        "id": "uTcX4t8sj8It"
      },
      "source": [
        "SELECT DISTINCT CITY FROM STATION WHERE CITY LIKE 'a%' OR CITY LIKE'e%' OR CITY LIKE 'i%' OR CITY LIKE 'o%' OR CITY LIKE 'u%';"
      ],
      "execution_count": null,
      "outputs": []
    },
    {
      "cell_type": "code",
      "metadata": {
        "id": "OWbCkvgykJRO"
      },
      "source": [
        "SELECT DISTINCT CITY FROM STATION WHERE CITY LIKE '%a' OR CITY LIKE '%e' OR CITY LIKE '%i' OR CITY LIKE '%o' OR CITY LIKE '%u';"
      ],
      "execution_count": null,
      "outputs": []
    },
    {
      "cell_type": "code",
      "metadata": {
        "id": "pXcKbr17kLyV"
      },
      "source": [
        "SELECT distinct CITY FROM STATION where left(city,1) in ('a','e','i','o','u') and right(city,1) in ('a','e','i','o','u');"
      ],
      "execution_count": null,
      "outputs": []
    },
    {
      "cell_type": "code",
      "metadata": {
        "id": "u-nUQ-eLylth"
      },
      "source": [
        "SELECT DISTINCT CITY FROM STATION WHERE NOT (CITY LIKE 'a%' OR CITY LIKE'e%' OR CITY LIKE 'i%' OR CITY LIKE 'o%' OR CITY LIKE 'u%');"
      ],
      "execution_count": null,
      "outputs": []
    },
    {
      "cell_type": "code",
      "metadata": {
        "id": "a7sUAznuyntn"
      },
      "source": [
        "#10\n",
        "SELECT DISTINCT CITY FROM STATION WHERE NOT (CITY LIKE '%a' OR CITY LIKE'%e' OR CITY LIKE '%i' OR CITY LIKE '%o' OR CITY LIKE '%u');"
      ],
      "execution_count": null,
      "outputs": []
    },
    {
      "cell_type": "code",
      "metadata": {
        "id": "9DgeZFJBckUW"
      },
      "source": [
        "SELECT distinct CITY FROM STATION where left(city,1) not in ('a','e','i','o','u') or right(city,1) not in ('a','e','i','o','u');"
      ],
      "execution_count": null,
      "outputs": []
    },
    {
      "cell_type": "code",
      "metadata": {
        "id": "S-8dvmurcuEH"
      },
      "source": [
        "SELECT distinct CITY FROM STATION where left(city,1) not in ('a','e','i','o','u') and right(city,1) not in ('a','e','i','o','u'); "
      ],
      "execution_count": null,
      "outputs": []
    },
    {
      "cell_type": "code",
      "metadata": {
        "id": "oxWzt104c-mS"
      },
      "source": [
        "SELECT NAME FROM STUDENTS WHERE MARKS>75 ORDER BY right(NAME,3), ID asc;"
      ],
      "execution_count": null,
      "outputs": []
    },
    {
      "cell_type": "code",
      "metadata": {
        "id": "ibEt8cgjk00P"
      },
      "source": [
        "SELECT name from Employee order by name;"
      ],
      "execution_count": null,
      "outputs": []
    },
    {
      "cell_type": "code",
      "metadata": {
        "id": "nSZbY21klCtb"
      },
      "source": [
        "select name from Employee where salary>2000 and months<10 order by employee_id asc;"
      ],
      "execution_count": null,
      "outputs": []
    },
    {
      "cell_type": "code",
      "metadata": {
        "id": "xhKJd90plI7A"
      },
      "source": [
        "SELECT SUM(CIT.POPULATION)AS TOTAL_POP FROM CITY CIT JOIN COUNTRY CNT ON CIT.CountryCode=CNT.Code WHERE CONTINENT='ASIA';"
      ],
      "execution_count": null,
      "outputs": []
    },
    {
      "cell_type": "code",
      "metadata": {
        "id": "0EriiH8SlSE4"
      },
      "source": [
        "SELECT CIT.NAME FROM CITY CIT JOIN COUNTRY CNT ON CIT.CountryCode = CNT.Code WHERE CNT.CONTINENT = 'Africa';"
      ],
      "execution_count": null,
      "outputs": []
    },
    {
      "cell_type": "code",
      "metadata": {
        "id": "B9af5XxxlX9a"
      },
      "source": [
        "#average population of each continent\n",
        "ECT CNT.CONTINENT AS CON, AVG(CIT.POPULATION) AS AVERAGE_POP FROM COUNTRY CNT JOIN CITY CIT ON CIT.CountryCode=CNT.Code GROUP BY CNT.CONTINENT;"
      ],
      "execution_count": null,
      "outputs": []
    },
    {
      "cell_type": "code",
      "metadata": {
        "id": "GTgqvDeziX7B"
      },
      "source": [
        "SELECT CASE             \n",
        "            WHEN A + B > C AND B + C > A AND A + C > B THEN\n",
        "                CASE \n",
        "                    WHEN A = B AND B = C THEN 'Equilateral'\n",
        "                    WHEN A = B OR B = C OR A = C THEN 'Isosceles'\n",
        "                    ELSE 'Scalene'\n",
        "                END\n",
        "            ELSE 'Not A Triangle'\n",
        "        END\n",
        "FROM TRIANGLES;"
      ],
      "execution_count": null,
      "outputs": []
    },
    {
      "cell_type": "code",
      "metadata": {
        "id": "eXjKUo0cyCGz"
      },
      "source": [
        "SELECT COUNT(NAME) FROM CITY WHERE POPULATION>100000;"
      ],
      "execution_count": null,
      "outputs": []
    },
    {
      "cell_type": "code",
      "metadata": {
        "id": "j9cm7SP7yMq2"
      },
      "source": [
        "SELECT SUM(POPULATION) FROM CITY WHERE DISTRICT='California';"
      ],
      "execution_count": null,
      "outputs": []
    },
    {
      "cell_type": "code",
      "metadata": {
        "id": "t7N4KmjLycO2"
      },
      "source": [
        "SELECT AVG(POPULATION) FROM CITY WHERE DISTRICT='California';"
      ],
      "execution_count": null,
      "outputs": []
    },
    {
      "cell_type": "code",
      "metadata": {
        "id": "GZFV0GhEpXaY"
      },
      "source": [
        "SELECT AVG(POPULATION) FROM CITY;"
      ],
      "execution_count": null,
      "outputs": []
    },
    {
      "cell_type": "code",
      "metadata": {
        "id": "TuWmHFCMpc0S"
      },
      "source": [
        "SELECT SUM(POPULATION) FROM CITY WHERE COUNTRYCODE='JPN';"
      ],
      "execution_count": null,
      "outputs": []
    },
    {
      "cell_type": "code",
      "metadata": {
        "id": "rPzy37mmpsVd"
      },
      "source": [
        "SELECT MAX(POPULATION) - MIN(POPULATION) FROM CITY;"
      ],
      "execution_count": null,
      "outputs": []
    },
    {
      "cell_type": "code",
      "metadata": {
        "id": "WRdi99E_lvc9"
      },
      "source": [
        "SELECT CEIL(AVG(Salary)-AVG(REPLACE(Salary,'0',''))) FROM EMPLOYEES;"
      ],
      "execution_count": null,
      "outputs": []
    },
    {
      "cell_type": "code",
      "metadata": {
        "id": "BZxRbSaFl3ex"
      },
      "source": [
        "Select max(salary*months), count(salary*months) from Employee where salary*months in (select max(salary*months) from Employee);"
      ],
      "execution_count": null,
      "outputs": []
    },
    {
      "cell_type": "code",
      "metadata": {
        "id": "ogw9ZHLaNn62"
      },
      "source": [
        "SELECT ROUND(SUM(LAT_N),2) AS LAT, ROUND(SUM(LONG_W),2) AS LON FROM STATION;"
      ],
      "execution_count": null,
      "outputs": []
    },
    {
      "cell_type": "code",
      "metadata": {
        "id": "wS4B57l3NuN8"
      },
      "source": [
        "SELECT ROUND(SUM(LAT_N),4) FROM STATION WHERE LAT_N>38.7880 AND LAT_N<137.2345;"
      ],
      "execution_count": null,
      "outputs": []
    }
  ]
}
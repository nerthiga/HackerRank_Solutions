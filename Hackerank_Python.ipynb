{
  "nbformat": 4,
  "nbformat_minor": 0,
  "metadata": {
    "colab": {
      "name": "Hackerank_Python.ipynb",
      "provenance": [],
      "collapsed_sections": []
    },
    "kernelspec": {
      "name": "python3",
      "display_name": "Python 3"
    },
    "language_info": {
      "name": "python"
    }
  },
  "cells": [
    {
      "cell_type": "code",
      "metadata": {
        "id": "D04S1fmP6Bz1"
      },
      "source": [
        "#loops\n",
        "if __name__ == '__main__':\n",
        "    n = int(raw_input())\n",
        "    for i in range(0,n):\n",
        "        print (i**2)"
      ],
      "execution_count": null,
      "outputs": []
    },
    {
      "cell_type": "code",
      "metadata": {
        "id": "jtaOGl6_6P06"
      },
      "source": [
        "#function\n",
        "def is_leap(year):\n",
        "    leap = False\n",
        "    \n",
        "    # Write your logic here\n",
        "    if year%4==0:\n",
        "        if year%100!=0:\n",
        "            return True\n",
        "        if year%400==0:\n",
        "            return True\n",
        "                \n",
        "        \n",
        "    \n",
        "    return leap\n"
      ],
      "execution_count": null,
      "outputs": []
    },
    {
      "cell_type": "code",
      "metadata": {
        "id": "zpjqKwr9J4nq"
      },
      "source": [
        "#printfunction\n",
        "from __future__ import print_function\n",
        "\n",
        "if __name__ == '__main__':\n",
        "    n = int(raw_input())\n",
        "    for i in range(1,n+1):\n",
        "        print (i, end='')\n"
      ],
      "execution_count": null,
      "outputs": []
    },
    {
      "cell_type": "code",
      "metadata": {
        "id": "vqrgVkk3KM0F"
      },
      "source": [
        "#tuples\n",
        "if __name__ == '__main__':\n",
        "    n = int(raw_input())\n",
        "    integer_list = map(int, raw_input().split())\n",
        "    t = tuple(integer_list)\n",
        "    print hash(t)"
      ],
      "execution_count": null,
      "outputs": []
    },
    {
      "cell_type": "code",
      "metadata": {
        "id": "nUlQveUeI0Bg"
      },
      "source": [
        "#listcomprehensions\n",
        "if __name__ == '__main__':\n",
        "    x = int(raw_input())\n",
        "    y = int(raw_input())\n",
        "    z = int(raw_input())\n",
        "    n = int(raw_input())\n",
        "    print([[a,b,c] for a in range(0,x+1) for b in range (0,y+1) for c in range (0,z+1) if a+b+c!=n])\n",
        "    \n"
      ],
      "execution_count": null,
      "outputs": []
    },
    {
      "cell_type": "code",
      "metadata": {
        "id": "yk3NMzosmU35"
      },
      "source": [
        "#Helloworld\n",
        "if __name__ == '__main__':\n",
        "    print(\"Hello, World!\")\n"
      ],
      "execution_count": null,
      "outputs": []
    },
    {
      "cell_type": "code",
      "metadata": {
        "id": "PS5_3YAAmgNe"
      },
      "source": [
        "#if_else\n",
        "if __name__ == '__main__':\n",
        "    n = int(raw_input().strip())\n",
        "    if n%2==0:\n",
        "        if n in range(2,5):\n",
        "            print (\"Not Weird\")\n",
        "        if n in range(6,21):\n",
        "            print (\"Weird\")\n",
        "        if n>20:\n",
        "            print(\"Not Weird\")   \n",
        "    else:  \n",
        "        print(\"Weird\")    "
      ],
      "execution_count": null,
      "outputs": []
    },
    {
      "cell_type": "code",
      "metadata": {
        "id": "FTt6vrphmqHq"
      },
      "source": [
        "#arithmeticoperations\n",
        "if __name__ == '__main__':\n",
        "    a = int(raw_input())\n",
        "    b = int(raw_input())\n",
        "    c = a+b\n",
        "    d = a-b\n",
        "    e = a*b\n",
        "    print (c)\n",
        "    print (d)\n",
        "    print (e)\n"
      ],
      "execution_count": null,
      "outputs": []
    },
    {
      "cell_type": "code",
      "metadata": {
        "id": "YlCQGwtinhB0"
      },
      "source": [
        "#first_runner_up\n",
        "if __name__ == '__main__':\n",
        "    n = int(raw_input())\n",
        "    arr = map(int, raw_input().split())\n",
        "    arr.sort()\n",
        "    print (list(set(arr))[-2])\n"
      ],
      "execution_count": null,
      "outputs": []
    },
    {
      "cell_type": "code",
      "metadata": {
        "id": "SPurlUuNnxCU"
      },
      "source": [
        "#nestedlists\n",
        "marksheet = []\n",
        "for _ in range(int(raw_input())):\n",
        "    name = raw_input()\n",
        "    score = float(raw_input())\n",
        "    marksheet.append([name, score])\n",
        "second_lowest = sorted(set([score for name, score in marksheet]))[1]\n",
        "print('\\n'.join(sorted([name for name, score in marksheet if score == second_lowest])))    \n"
      ],
      "execution_count": null,
      "outputs": []
    },
    {
      "cell_type": "code",
      "metadata": {
        "id": "To1AAibZoGG9"
      },
      "source": [
        "#percentage_finder\n",
        "if __name__ == '__main__':\n",
        "    n = int(raw_input())\n",
        "    student_marks = {}\n",
        "    for _ in range(n):\n",
        "        line = raw_input().split()\n",
        "        name, scores = line[0], line[1:]\n",
        "        scores = map(float, scores)\n",
        "        student_marks[name] = scores\n",
        "    query_name = raw_input()\n",
        "    query_scores = student_marks[query_name]\n",
        "    avg = sum(query_scores)/float(len(query_scores))\n",
        "print (\"%.2f\" % round(avg,2))    \n",
        "    "
      ],
      "execution_count": null,
      "outputs": []
    },
    {
      "cell_type": "code",
      "metadata": {
        "id": "sDXD5LqEyzBl"
      },
      "source": [
        "#lists\n",
        "if __name__ == '__main__':\n",
        "    N = int(input())\n",
        "    p = []\n",
        "    for n in range(N):\n",
        "        C = input().strip().split(\" \")\n",
        "        if C[0]== \"append\":\n",
        "            p.append(int(C[1]))\n",
        "        elif C[0]==\"insert\":\n",
        "            p.insert(int(C[1]), int(C[2]))\n",
        "        elif C[0]==\"remove\":\n",
        "            p.remove(int(C[1]))\n",
        "        elif C[0]==\"sort\":\n",
        "            p.sort()\n",
        "        elif C[0]==\"pop\":\n",
        "            p.pop()\n",
        "        elif C[0]==\"reverse\":\n",
        "            p.reverse()\n",
        "        elif C[0]==\"print\":\n",
        "            print (p)                   "
      ],
      "execution_count": null,
      "outputs": []
    },
    {
      "cell_type": "code",
      "metadata": {
        "id": "OCm3b_AyjsWU"
      },
      "source": [
        "#swap case\n",
        "def swap_case(s):\n",
        "    k = ''\n",
        "    for i in range(len(s)):\n",
        "        if s[i].islower():\n",
        "            k+=s[i].upper()\n",
        "        elif s[i].isupper():\n",
        "            k+=s[i].lower()\n",
        "        else:\n",
        "            k+=s[i]           \n",
        "    return k\n",
        "\n"
      ],
      "execution_count": null,
      "outputs": []
    },
    {
      "cell_type": "code",
      "metadata": {
        "id": "DIp4vHKSj4XS"
      },
      "source": [
        "#split and join\n",
        "def split_and_join(line):\n",
        "    a = line.split(\" \")\n",
        "    a = \"-\".join(a)\n",
        "    \n",
        "    return a"
      ],
      "execution_count": null,
      "outputs": []
    },
    {
      "cell_type": "code",
      "metadata": {
        "id": "GIbgm13oy46t"
      },
      "source": [
        "#whats your name?\n",
        "def print_full_name(first, last):\n",
        "    # Write your code here\n",
        "    print (\"Hello {} {}! You just delved into python.\".format(first, last))\n"
      ],
      "execution_count": null,
      "outputs": []
    },
    {
      "cell_type": "code",
      "metadata": {
        "id": "FTmqg8dizL4v"
      },
      "source": [
        "def mutate_string(string, position, character):\n",
        "    l = list(string)\n",
        "    l[position] = character\n",
        "    string = ''.join(l)\n",
        "    return string \n"
      ],
      "execution_count": null,
      "outputs": []
    },
    {
      "cell_type": "code",
      "metadata": {
        "id": "8x7HtHnZkJdj"
      },
      "source": [
        "#find a string\n",
        "def count_substring(string, sub_string):\n",
        "    count = 0\n",
        "    for i in range(len(string)):\n",
        "        if string[i:].startswith(sub_string):\n",
        "            count += 1\n",
        "    return count"
      ],
      "execution_count": null,
      "outputs": []
    },
    {
      "cell_type": "code",
      "metadata": {
        "id": "8LULqZYbkh4n"
      },
      "source": [
        "if __name__ == '__main__':\n",
        "    s = input()\n",
        "    l = list(s)\n",
        "    a,b,c,d,e, = False, False, False, False, False\n",
        "    for i in l:\n",
        "        if i.isalnum():\n",
        "            a = True\n",
        "        if i.isalpha():\n",
        "            b = True\n",
        "        if i.isdigit():\n",
        "            c = True\n",
        "        if i.islower():\n",
        "            d = True\n",
        "        if i.isupper():\n",
        "            e = True\n",
        "print (a)  \n",
        "print (b) \n",
        "print (c) \n",
        "print (d) \n",
        "print (e)                            \n",
        "            "
      ],
      "execution_count": null,
      "outputs": []
    },
    {
      "cell_type": "code",
      "metadata": {
        "id": "Fb5FslzWYPSG"
      },
      "source": [
        "#Replace all ______ with rjust, ljust or center. \n",
        "\n",
        "thickness = int(input()) #This must be an odd number\n",
        "c = 'H'\n",
        "\n",
        "#Top Cone\n",
        "for i in range(thickness):\n",
        "    print((c*i).rjust(thickness-1)+c+(c*i).ljust(thickness-1))\n",
        "\n",
        "#Top Pillars\n",
        "for i in range(thickness+1):\n",
        "    print((c*thickness).center(thickness*2)+(c*thickness).center(thickness*6))\n",
        "\n",
        "#Middle Belt\n",
        "for i in range((thickness+1)//2):\n",
        "    print((c*thickness*5).center(thickness*6))    \n",
        "\n",
        "#Bottom Pillars\n",
        "for i in range(thickness+1):\n",
        "    print((c*thickness).center(thickness*2)+(c*thickness).center(thickness*6))    \n",
        "\n",
        "#Bottom Cone\n",
        "for i in range(thickness):\n",
        "    print(((c*(thickness-i-1)).rjust(thickness)+c+(c*(thickness-i-1)).ljust(thickness)).rjust(thickness*6))\n"
      ],
      "execution_count": null,
      "outputs": []
    }
  ]
}
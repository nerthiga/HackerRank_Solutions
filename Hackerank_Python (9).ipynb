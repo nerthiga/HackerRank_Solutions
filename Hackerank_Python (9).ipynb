{
  "nbformat": 4,
  "nbformat_minor": 0,
  "metadata": {
    "colab": {
      "name": "Hackerank_Python.ipynb",
      "provenance": []
    },
    "kernelspec": {
      "name": "python3",
      "display_name": "Python 3"
    },
    "language_info": {
      "name": "python"
    }
  },
  "cells": [
    {
      "cell_type": "code",
      "metadata": {
        "id": "D04S1fmP6Bz1"
      },
      "source": [
        "#loops\n",
        "if __name__ == '__main__':\n",
        "    n = int(raw_input())\n",
        "    for i in range(0,n):\n",
        "        print (i**2)"
      ],
      "execution_count": null,
      "outputs": []
    },
    {
      "cell_type": "code",
      "metadata": {
        "id": "jtaOGl6_6P06"
      },
      "source": [
        "#function\n",
        "def is_leap(year):\n",
        "    leap = False\n",
        "    \n",
        "    # Write your logic here\n",
        "    if year%4==0:\n",
        "        if year%100!=0:\n",
        "            return True\n",
        "        if year%400==0:\n",
        "            return True\n",
        "                \n",
        "        \n",
        "    \n",
        "    return leap\n"
      ],
      "execution_count": null,
      "outputs": []
    },
    {
      "cell_type": "code",
      "metadata": {
        "id": "zpjqKwr9J4nq"
      },
      "source": [
        "#printfunction\n",
        "from __future__ import print_function\n",
        "\n",
        "if __name__ == '__main__':\n",
        "    n = int(raw_input())\n",
        "    for i in range(1,n+1):\n",
        "        print (i, end='')\n"
      ],
      "execution_count": null,
      "outputs": []
    },
    {
      "cell_type": "code",
      "metadata": {
        "id": "vqrgVkk3KM0F"
      },
      "source": [
        "#tuples\n",
        "if __name__ == '__main__':\n",
        "    n = int(raw_input())\n",
        "    integer_list = map(int, raw_input().split())\n",
        "    t = tuple(integer_list)\n",
        "    print hash(t)"
      ],
      "execution_count": null,
      "outputs": []
    },
    {
      "cell_type": "code",
      "metadata": {
        "id": "nUlQveUeI0Bg"
      },
      "source": [
        "#listcomprehensions\n",
        "if __name__ == '__main__':\n",
        "    x = int(raw_input())\n",
        "    y = int(raw_input())\n",
        "    z = int(raw_input())\n",
        "    n = int(raw_input())\n",
        "    print([[a,b,c] for a in range(0,x+1) for b in range (0,y+1) for c in range (0,z+1) if a+b+c!=n])\n",
        "    \n"
      ],
      "execution_count": null,
      "outputs": []
    },
    {
      "cell_type": "code",
      "metadata": {
        "id": "yk3NMzosmU35"
      },
      "source": [
        "#Helloworld\n",
        "if __name__ == '__main__':\n",
        "    print(\"Hello, World!\")\n"
      ],
      "execution_count": null,
      "outputs": []
    },
    {
      "cell_type": "code",
      "metadata": {
        "id": "PS5_3YAAmgNe"
      },
      "source": [
        "#if_else\n",
        "if __name__ == '__main__':\n",
        "    n = int(raw_input().strip())\n",
        "    if n%2==0:\n",
        "        if n in range(2,5):\n",
        "            print (\"Not Weird\")\n",
        "        if n in range(6,21):\n",
        "            print (\"Weird\")\n",
        "        if n>20:\n",
        "            print(\"Not Weird\")   \n",
        "    else:  \n",
        "        print(\"Weird\")    "
      ],
      "execution_count": null,
      "outputs": []
    },
    {
      "cell_type": "code",
      "metadata": {
        "id": "FTt6vrphmqHq"
      },
      "source": [
        "#arithmeticoperations\n",
        "if __name__ == '__main__':\n",
        "    a = int(raw_input())\n",
        "    b = int(raw_input())\n",
        "    c = a+b\n",
        "    d = a-b\n",
        "    e = a*b\n",
        "    print (c)\n",
        "    print (d)\n",
        "    print (e)\n"
      ],
      "execution_count": null,
      "outputs": []
    },
    {
      "cell_type": "code",
      "metadata": {
        "id": "YlCQGwtinhB0"
      },
      "source": [
        "#first_runner_up\n",
        "if __name__ == '__main__':\n",
        "    n = int(raw_input())\n",
        "    arr = map(int, raw_input().split())\n",
        "    arr.sort()\n",
        "    print (list(set(arr))[-2])\n"
      ],
      "execution_count": null,
      "outputs": []
    }
  ]
}
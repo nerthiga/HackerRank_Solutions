{
  "nbformat": 4,
  "nbformat_minor": 0,
  "metadata": {
    "colab": {
      "name": "practice_python.ipynb",
      "provenance": []
    },
    "kernelspec": {
      "name": "python3",
      "display_name": "Python 3"
    },
    "language_info": {
      "name": "python"
    }
  },
  "cells": [
    {
      "cell_type": "code",
      "metadata": {
        "id": "LjZfIO3NXGGF"
      },
      "source": [
        "if __name__ == '__main__':\n",
        "    n = int(raw_input().strip())\n",
        "    if n%2!=0:\n",
        "        if n in range(3,5):\n",
        "            print (\"Great\")\n",
        "        if n in range(6,21):\n",
        "            print (\"Awesome\")\n",
        "        if n>20:\n",
        "            print(\"Not applicable\")   \n",
        "    else:  \n",
        "        print(\"Done\")    "
      ],
      "execution_count": null,
      "outputs": []
    },
    {
      "cell_type": "code",
      "metadata": {
        "id": "Rz3Hrw4aXkkA"
      },
      "source": [
        "def swap_case(s):\n",
        "    k = ''\n",
        "    for i in range(len(s)):\n",
        "        if s[i].islower():\n",
        "            k+=s[i].upper()\n",
        "        elif s[i].isupper():\n",
        "            k+=s[i].lower()\n",
        "        else:\n",
        "            k+=s[i]           \n",
        "    return k"
      ],
      "execution_count": null,
      "outputs": []
    },
    {
      "cell_type": "code",
      "metadata": {
        "id": "f4k1gxV5hTzp"
      },
      "source": [
        "def split_and_join(line):\n",
        "    a = line.split(\"-\")\n",
        "    a = \";\".join(a)\n",
        "    \n",
        "    return a"
      ],
      "execution_count": null,
      "outputs": []
    },
    {
      "cell_type": "code",
      "metadata": {
        "id": "WVblLIuUljkL"
      },
      "source": [
        "def print_address(street_name, house_number):\n",
        "    # Write your code here\n",
        "    print (\"Hello! I live at {} {}!\".format(street_name, house_number))"
      ],
      "execution_count": null,
      "outputs": []
    },
    {
      "cell_type": "code",
      "metadata": {
        "id": "kbd62m469ruI"
      },
      "source": [
        "def solve(word):\n",
        "    for i in word.split():\n",
        "        word = word.replace(i, i.capitalize())\n",
        "    return word    \n"
      ],
      "execution_count": null,
      "outputs": []
    }
  ]
}
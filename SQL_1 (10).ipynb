{
  "nbformat": 4,
  "nbformat_minor": 0,
  "metadata": {
    "colab": {
      "name": "SQL_1.ipynb",
      "provenance": []
    },
    "kernelspec": {
      "name": "python3",
      "display_name": "Python 3"
    },
    "language_info": {
      "name": "python"
    }
  },
  "cells": [
    {
      "cell_type": "code",
      "metadata": {
        "id": "r2VO3ZbsUidK"
      },
      "source": [
        "SELECT * FROM CITY WHERE COUNTRYCODE = 'JPN';"
      ],
      "execution_count": null,
      "outputs": []
    },
    {
      "cell_type": "code",
      "metadata": {
        "id": "76_YE-J7U1SN"
      },
      "source": [
        "SELECT CITY, LENGTH(CITY) AS LEN FROM STATION ORDER BY LENGTH(CITY) DESC, CITY ASC LIMIT 1;\n",
        "SELECT CITY, LENGTH(CITY) AS LEN FROM STATION ORDER BY LENGTH(CITY) ASC, CITY ASC LIMIT 1;"
      ],
      "execution_count": null,
      "outputs": []
    },
    {
      "cell_type": "code",
      "metadata": {
        "id": "Ds89Rrbxpu32"
      },
      "source": [
        "SELECT distinct CITY FROM STATION where left(city,1) in ('a','e','i','o','u') and right(city,1) in ('a','e','i','o','u');"
      ],
      "execution_count": null,
      "outputs": []
    },
    {
      "cell_type": "code",
      "metadata": {
        "id": "qzHEwDZJpxOR"
      },
      "source": [
        "SELECT NAME FROM STUDENTS WHERE MARKS>75 ORDER BY right(NAME,3), ID asc;"
      ],
      "execution_count": null,
      "outputs": []
    },
    {
      "cell_type": "code",
      "metadata": {
        "id": "P4-7_nOjjzcZ"
      },
      "source": [
        "SELECT AVG(POPULATION) FROM CITY WHERE DISTRICT='California';"
      ],
      "execution_count": null,
      "outputs": []
    },
    {
      "cell_type": "code",
      "metadata": {
        "id": "UMAJgoC-j2oL"
      },
      "source": [
        "SELECT DISTINCT CITY FROM STATION WHERE (ID%2 = '0');"
      ],
      "execution_count": null,
      "outputs": []
    },
    {
      "cell_type": "code",
      "metadata": {
        "id": "vNeF54gYj2y1"
      },
      "source": [
        "Select max(salary*months), count(salary*months) from Employee where salary*months in (select max(salary*months) from Employee);"
      ],
      "execution_count": null,
      "outputs": []
    },
    {
      "cell_type": "code",
      "metadata": {
        "id": "uxmvqNp7KM7k"
      },
      "source": [
        "SELECT SUM(POPULATION) FROM CITY WHERE COUNTRYCODE='JPN';"
      ],
      "execution_count": null,
      "outputs": []
    },
    {
      "cell_type": "code",
      "metadata": {
        "id": "MMtq0cqN0U12"
      },
      "source": [
        "SELECT CITY, STATE FROM STATION;"
      ],
      "execution_count": null,
      "outputs": []
    },
    {
      "cell_type": "code",
      "metadata": {
        "id": "_5hm_hlg0XEV"
      },
      "source": [
        "SELECT distinct CITY FROM STATION where left(city,1) not in ('a','e','i','o','u') and right(city,1) not in ('a','e','i','o','u'); "
      ],
      "execution_count": null,
      "outputs": []
    },
    {
      "cell_type": "code",
      "metadata": {
        "id": "4EnI425zdYtK"
      },
      "source": [
        "SELECT * FROM CITY WHERE POPULATION > 100000 AND COUNTRYCODE = 'USA';"
      ],
      "execution_count": null,
      "outputs": []
    }
  ]
}
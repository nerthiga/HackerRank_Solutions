{
  "nbformat": 4,
  "nbformat_minor": 0,
  "metadata": {
    "colab": {
      "name": "practice_python.ipynb",
      "provenance": []
    },
    "kernelspec": {
      "name": "python3",
      "display_name": "Python 3"
    },
    "language_info": {
      "name": "python"
    }
  },
  "cells": [
    {
      "cell_type": "code",
      "metadata": {
        "id": "LjZfIO3NXGGF"
      },
      "source": [
        "if __name__ == '__main__':\n",
        "    n = int(raw_input().strip())\n",
        "    if n%2!=0:\n",
        "        if n in range(3,5):\n",
        "            print (\"Great\")\n",
        "        if n in range(6,21):\n",
        "            print (\"Awesome\")\n",
        "        if n>20:\n",
        "            print(\"Not applicable\")   \n",
        "    else:  \n",
        "        print(\"Done\")    "
      ],
      "execution_count": null,
      "outputs": []
    }
  ]
}
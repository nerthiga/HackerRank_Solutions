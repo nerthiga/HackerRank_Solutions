{
  "nbformat": 4,
  "nbformat_minor": 0,
  "metadata": {
    "colab": {
      "name": "Hackerank_Python.ipynb",
      "provenance": []
    },
    "kernelspec": {
      "name": "python3",
      "display_name": "Python 3"
    },
    "language_info": {
      "name": "python"
    }
  },
  "cells": [
    {
      "cell_type": "code",
      "metadata": {
        "id": "D04S1fmP6Bz1"
      },
      "source": [
        "#loops\n",
        "if __name__ == '__main__':\n",
        "    n = int(raw_input())\n",
        "    for i in range(0,n):\n",
        "        print (i**2)"
      ],
      "execution_count": null,
      "outputs": []
    },
    {
      "cell_type": "code",
      "metadata": {
        "id": "jtaOGl6_6P06"
      },
      "source": [
        "#function\n",
        "def is_leap(year):\n",
        "    leap = False\n",
        "    \n",
        "    # Write your logic here\n",
        "    if year%4==0:\n",
        "        if year%100!=0:\n",
        "            return True\n",
        "        if year%400==0:\n",
        "            return True\n",
        "                \n",
        "        \n",
        "    \n",
        "    return leap\n"
      ],
      "execution_count": null,
      "outputs": []
    },
    {
      "cell_type": "code",
      "metadata": {
        "id": "zpjqKwr9J4nq"
      },
      "source": [
        "from __future__ import print_function\n",
        "\n",
        "if __name__ == '__main__':\n",
        "    n = int(raw_input())\n",
        "    for i in range(1,n+1):\n",
        "        print (i, end='')\n"
      ],
      "execution_count": null,
      "outputs": []
    }
  ]
}